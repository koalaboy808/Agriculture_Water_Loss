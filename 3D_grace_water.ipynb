{
 "cells": [
  {
   "cell_type": "code",
   "execution_count": 8,
   "metadata": {
    "collapsed": true
   },
   "outputs": [],
   "source": [
    "# import plotly.plotly as py\n",
    "# py.sign_in('username', 'api_key')\n",
    "\n",
    "import plotly.tools as tls\n",
    "import plotly.plotly as py\n",
    "from plotly.graph_objs import *\n",
    "import numpy as np\n",
    "\n",
    "tls.set_credentials_file(username='koalaboy808', api_key='yV2m2gtmwdkg6CZMr75P')"
   ]
  },
  {
   "cell_type": "code",
   "execution_count": 18,
   "metadata": {
    "collapsed": false
   },
   "outputs": [
    {
     "data": {
      "text/html": [
       "<div>\n",
       "<table border=\"1\" class=\"dataframe\">\n",
       "  <thead>\n",
       "    <tr style=\"text-align: right;\">\n",
       "      <th></th>\n",
       "      <th>0</th>\n",
       "      <th>1</th>\n",
       "      <th>2</th>\n",
       "      <th>3</th>\n",
       "      <th>4</th>\n",
       "      <th>5</th>\n",
       "      <th>6</th>\n",
       "      <th>7</th>\n",
       "      <th>8</th>\n",
       "      <th>9</th>\n",
       "      <th>...</th>\n",
       "      <th>47</th>\n",
       "      <th>48</th>\n",
       "      <th>49</th>\n",
       "      <th>50</th>\n",
       "      <th>51</th>\n",
       "      <th>52</th>\n",
       "      <th>53</th>\n",
       "      <th>54</th>\n",
       "      <th>55</th>\n",
       "      <th>56</th>\n",
       "    </tr>\n",
       "  </thead>\n",
       "  <tbody>\n",
       "    <tr>\n",
       "      <th>0</th>\n",
       "      <td>NaN</td>\n",
       "      <td>NaN</td>\n",
       "      <td>NaN</td>\n",
       "      <td>0.0</td>\n",
       "      <td>NaN</td>\n",
       "      <td>0.0</td>\n",
       "      <td>0.0</td>\n",
       "      <td>0.0</td>\n",
       "      <td>NaN</td>\n",
       "      <td>NaN</td>\n",
       "      <td>...</td>\n",
       "      <td>NaN</td>\n",
       "      <td>NaN</td>\n",
       "      <td>NaN</td>\n",
       "      <td>NaN</td>\n",
       "      <td>NaN</td>\n",
       "      <td>NaN</td>\n",
       "      <td>NaN</td>\n",
       "      <td>NaN</td>\n",
       "      <td>NaN</td>\n",
       "      <td>NaN</td>\n",
       "    </tr>\n",
       "    <tr>\n",
       "      <th>1</th>\n",
       "      <td>NaN</td>\n",
       "      <td>NaN</td>\n",
       "      <td>NaN</td>\n",
       "      <td>0.0</td>\n",
       "      <td>0.0</td>\n",
       "      <td>0.0</td>\n",
       "      <td>0.0</td>\n",
       "      <td>0.0</td>\n",
       "      <td>0.0</td>\n",
       "      <td>0.0</td>\n",
       "      <td>...</td>\n",
       "      <td>NaN</td>\n",
       "      <td>NaN</td>\n",
       "      <td>NaN</td>\n",
       "      <td>NaN</td>\n",
       "      <td>NaN</td>\n",
       "      <td>NaN</td>\n",
       "      <td>0.0</td>\n",
       "      <td>0.0</td>\n",
       "      <td>NaN</td>\n",
       "      <td>NaN</td>\n",
       "    </tr>\n",
       "    <tr>\n",
       "      <th>2</th>\n",
       "      <td>NaN</td>\n",
       "      <td>NaN</td>\n",
       "      <td>NaN</td>\n",
       "      <td>0.0</td>\n",
       "      <td>0.0</td>\n",
       "      <td>0.0</td>\n",
       "      <td>0.0</td>\n",
       "      <td>600.0</td>\n",
       "      <td>0.0</td>\n",
       "      <td>0.0</td>\n",
       "      <td>...</td>\n",
       "      <td>NaN</td>\n",
       "      <td>NaN</td>\n",
       "      <td>NaN</td>\n",
       "      <td>NaN</td>\n",
       "      <td>NaN</td>\n",
       "      <td>NaN</td>\n",
       "      <td>0.0</td>\n",
       "      <td>0.0</td>\n",
       "      <td>0.0</td>\n",
       "      <td>NaN</td>\n",
       "    </tr>\n",
       "    <tr>\n",
       "      <th>3</th>\n",
       "      <td>NaN</td>\n",
       "      <td>NaN</td>\n",
       "      <td>0.0</td>\n",
       "      <td>0.0</td>\n",
       "      <td>0.0</td>\n",
       "      <td>0.0</td>\n",
       "      <td>0.0</td>\n",
       "      <td>0.0</td>\n",
       "      <td>0.0</td>\n",
       "      <td>0.0</td>\n",
       "      <td>...</td>\n",
       "      <td>NaN</td>\n",
       "      <td>NaN</td>\n",
       "      <td>NaN</td>\n",
       "      <td>NaN</td>\n",
       "      <td>NaN</td>\n",
       "      <td>NaN</td>\n",
       "      <td>0.0</td>\n",
       "      <td>0.0</td>\n",
       "      <td>0.0</td>\n",
       "      <td>NaN</td>\n",
       "    </tr>\n",
       "    <tr>\n",
       "      <th>4</th>\n",
       "      <td>NaN</td>\n",
       "      <td>NaN</td>\n",
       "      <td>0.0</td>\n",
       "      <td>0.0</td>\n",
       "      <td>0.0</td>\n",
       "      <td>0.0</td>\n",
       "      <td>0.0</td>\n",
       "      <td>0.0</td>\n",
       "      <td>0.0</td>\n",
       "      <td>0.0</td>\n",
       "      <td>...</td>\n",
       "      <td>NaN</td>\n",
       "      <td>NaN</td>\n",
       "      <td>0.0</td>\n",
       "      <td>0.0</td>\n",
       "      <td>0.0</td>\n",
       "      <td>0.0</td>\n",
       "      <td>0.0</td>\n",
       "      <td>0.0</td>\n",
       "      <td>NaN</td>\n",
       "      <td>NaN</td>\n",
       "    </tr>\n",
       "  </tbody>\n",
       "</table>\n",
       "<p>5 rows × 57 columns</p>\n",
       "</div>"
      ],
      "text/plain": [
       "    0   1    2    3    4    5    6      7    8    9 ...  47  48   49   50  \\\n",
       "0 NaN NaN  NaN  0.0  NaN  0.0  0.0    0.0  NaN  NaN ... NaN NaN  NaN  NaN   \n",
       "1 NaN NaN  NaN  0.0  0.0  0.0  0.0    0.0  0.0  0.0 ... NaN NaN  NaN  NaN   \n",
       "2 NaN NaN  NaN  0.0  0.0  0.0  0.0  600.0  0.0  0.0 ... NaN NaN  NaN  NaN   \n",
       "3 NaN NaN  0.0  0.0  0.0  0.0  0.0    0.0  0.0  0.0 ... NaN NaN  NaN  NaN   \n",
       "4 NaN NaN  0.0  0.0  0.0  0.0  0.0    0.0  0.0  0.0 ... NaN NaN  0.0  0.0   \n",
       "\n",
       "    51   52   53   54   55  56  \n",
       "0  NaN  NaN  NaN  NaN  NaN NaN  \n",
       "1  NaN  NaN  0.0  0.0  NaN NaN  \n",
       "2  NaN  NaN  0.0  0.0  0.0 NaN  \n",
       "3  NaN  NaN  0.0  0.0  0.0 NaN  \n",
       "4  0.0  0.0  0.0  0.0  NaN NaN  \n",
       "\n",
       "[5 rows x 57 columns]"
      ]
     },
     "execution_count": 18,
     "metadata": {},
     "output_type": "execute_result"
    }
   ],
   "source": [
    "df_water = pd.read_csv(\"weighted_df_1x1.csv\")\n",
    "df_water = df_water.drop('Unnamed: 0', 1)\n",
    "df_water = df_water.replace(r'-1', np.nan, regex=True)\n",
    "df_water.head()"
   ]
  },
  {
   "cell_type": "code",
   "execution_count": 99,
   "metadata": {
    "collapsed": false
   },
   "outputs": [],
   "source": [
    "import pandas as pd\n",
    "df = pd.read_csv(\"grace_masked_2015.csv\", header=None)\n",
    "df = df.replace(np.nan, 0, regex=True)\n",
    "# df = df.drop('Unnamed: 0', 1)\n",
    "# df = df.replace(r'-1', np.nan, regex=True)\n",
    "# df = df.where(df == -1, nan)\n",
    "# df = df[2:]\n",
    "\n",
    "# raw_weighted(1,:)=[];\n",
    "# raw_weighted(:,1)=[];\n",
    "# raw_weighted(raw_weighted == -1) = nan;"
   ]
  },
  {
   "cell_type": "code",
   "execution_count": 100,
   "metadata": {
    "collapsed": false
   },
   "outputs": [
    {
     "data": {
      "text/html": [
       "<div>\n",
       "<table border=\"1\" class=\"dataframe\">\n",
       "  <thead>\n",
       "    <tr style=\"text-align: right;\">\n",
       "      <th></th>\n",
       "      <th>0</th>\n",
       "      <th>1</th>\n",
       "      <th>2</th>\n",
       "      <th>3</th>\n",
       "      <th>4</th>\n",
       "      <th>5</th>\n",
       "      <th>6</th>\n",
       "      <th>7</th>\n",
       "      <th>8</th>\n",
       "      <th>9</th>\n",
       "      <th>...</th>\n",
       "      <th>47</th>\n",
       "      <th>48</th>\n",
       "      <th>49</th>\n",
       "      <th>50</th>\n",
       "      <th>51</th>\n",
       "      <th>52</th>\n",
       "      <th>53</th>\n",
       "      <th>54</th>\n",
       "      <th>55</th>\n",
       "      <th>56</th>\n",
       "    </tr>\n",
       "  </thead>\n",
       "  <tbody>\n",
       "    <tr>\n",
       "      <th>0</th>\n",
       "      <td>0.0</td>\n",
       "      <td>0.0</td>\n",
       "      <td>0.0000</td>\n",
       "      <td>-3.8000</td>\n",
       "      <td>0.0000</td>\n",
       "      <td>-3.3105</td>\n",
       "      <td>-3.0683</td>\n",
       "      <td>-2.9062</td>\n",
       "      <td>0.0000</td>\n",
       "      <td>0.0000</td>\n",
       "      <td>...</td>\n",
       "      <td>0.0</td>\n",
       "      <td>0.0</td>\n",
       "      <td>0.0000</td>\n",
       "      <td>0.0000</td>\n",
       "      <td>0.000</td>\n",
       "      <td>0.0000</td>\n",
       "      <td>0.0000</td>\n",
       "      <td>0.0000</td>\n",
       "      <td>0.000</td>\n",
       "      <td>0.0</td>\n",
       "    </tr>\n",
       "    <tr>\n",
       "      <th>1</th>\n",
       "      <td>0.0</td>\n",
       "      <td>0.0</td>\n",
       "      <td>0.0000</td>\n",
       "      <td>-5.2850</td>\n",
       "      <td>-4.9398</td>\n",
       "      <td>-4.6055</td>\n",
       "      <td>-4.3163</td>\n",
       "      <td>-4.1037</td>\n",
       "      <td>-3.9932</td>\n",
       "      <td>-4.0082</td>\n",
       "      <td>...</td>\n",
       "      <td>0.0</td>\n",
       "      <td>0.0</td>\n",
       "      <td>0.0000</td>\n",
       "      <td>0.0000</td>\n",
       "      <td>0.000</td>\n",
       "      <td>0.0000</td>\n",
       "      <td>11.6400</td>\n",
       "      <td>12.2260</td>\n",
       "      <td>0.000</td>\n",
       "      <td>0.0</td>\n",
       "    </tr>\n",
       "    <tr>\n",
       "      <th>2</th>\n",
       "      <td>0.0</td>\n",
       "      <td>0.0</td>\n",
       "      <td>0.0000</td>\n",
       "      <td>-5.9780</td>\n",
       "      <td>-5.5957</td>\n",
       "      <td>-5.2873</td>\n",
       "      <td>-5.0653</td>\n",
       "      <td>-4.9243</td>\n",
       "      <td>-4.8528</td>\n",
       "      <td>-4.8483</td>\n",
       "      <td>...</td>\n",
       "      <td>0.0</td>\n",
       "      <td>0.0</td>\n",
       "      <td>0.0000</td>\n",
       "      <td>0.0000</td>\n",
       "      <td>0.000</td>\n",
       "      <td>0.0000</td>\n",
       "      <td>10.8880</td>\n",
       "      <td>11.5560</td>\n",
       "      <td>12.131</td>\n",
       "      <td>0.0</td>\n",
       "    </tr>\n",
       "    <tr>\n",
       "      <th>3</th>\n",
       "      <td>0.0</td>\n",
       "      <td>0.0</td>\n",
       "      <td>-6.3425</td>\n",
       "      <td>-5.9295</td>\n",
       "      <td>-5.6158</td>\n",
       "      <td>-5.4202</td>\n",
       "      <td>-5.3322</td>\n",
       "      <td>-5.3195</td>\n",
       "      <td>-5.3462</td>\n",
       "      <td>-5.3900</td>\n",
       "      <td>...</td>\n",
       "      <td>0.0</td>\n",
       "      <td>0.0</td>\n",
       "      <td>0.0000</td>\n",
       "      <td>0.0000</td>\n",
       "      <td>0.000</td>\n",
       "      <td>0.0000</td>\n",
       "      <td>9.1102</td>\n",
       "      <td>9.8113</td>\n",
       "      <td>10.410</td>\n",
       "      <td>0.0</td>\n",
       "    </tr>\n",
       "    <tr>\n",
       "      <th>4</th>\n",
       "      <td>0.0</td>\n",
       "      <td>0.0</td>\n",
       "      <td>-5.8472</td>\n",
       "      <td>-5.5902</td>\n",
       "      <td>-5.4363</td>\n",
       "      <td>-5.3867</td>\n",
       "      <td>-5.4180</td>\n",
       "      <td>-5.4918</td>\n",
       "      <td>-5.5695</td>\n",
       "      <td>-5.6283</td>\n",
       "      <td>...</td>\n",
       "      <td>0.0</td>\n",
       "      <td>0.0</td>\n",
       "      <td>3.1638</td>\n",
       "      <td>4.0323</td>\n",
       "      <td>4.827</td>\n",
       "      <td>5.5687</td>\n",
       "      <td>6.2583</td>\n",
       "      <td>6.8788</td>\n",
       "      <td>0.000</td>\n",
       "      <td>0.0</td>\n",
       "    </tr>\n",
       "  </tbody>\n",
       "</table>\n",
       "<p>5 rows × 57 columns</p>\n",
       "</div>"
      ],
      "text/plain": [
       "    0    1       2       3       4       5       6       7       8       9   \\\n",
       "0  0.0  0.0  0.0000 -3.8000  0.0000 -3.3105 -3.0683 -2.9062  0.0000  0.0000   \n",
       "1  0.0  0.0  0.0000 -5.2850 -4.9398 -4.6055 -4.3163 -4.1037 -3.9932 -4.0082   \n",
       "2  0.0  0.0  0.0000 -5.9780 -5.5957 -5.2873 -5.0653 -4.9243 -4.8528 -4.8483   \n",
       "3  0.0  0.0 -6.3425 -5.9295 -5.6158 -5.4202 -5.3322 -5.3195 -5.3462 -5.3900   \n",
       "4  0.0  0.0 -5.8472 -5.5902 -5.4363 -5.3867 -5.4180 -5.4918 -5.5695 -5.6283   \n",
       "\n",
       "  ...    47   48      49      50     51      52       53       54      55   56  \n",
       "0 ...   0.0  0.0  0.0000  0.0000  0.000  0.0000   0.0000   0.0000   0.000  0.0  \n",
       "1 ...   0.0  0.0  0.0000  0.0000  0.000  0.0000  11.6400  12.2260   0.000  0.0  \n",
       "2 ...   0.0  0.0  0.0000  0.0000  0.000  0.0000  10.8880  11.5560  12.131  0.0  \n",
       "3 ...   0.0  0.0  0.0000  0.0000  0.000  0.0000   9.1102   9.8113  10.410  0.0  \n",
       "4 ...   0.0  0.0  3.1638  4.0323  4.827  5.5687   6.2583   6.8788   0.000  0.0  \n",
       "\n",
       "[5 rows x 57 columns]"
      ]
     },
     "execution_count": 100,
     "metadata": {},
     "output_type": "execute_result"
    }
   ],
   "source": [
    "df.head()"
   ]
  },
  {
   "cell_type": "code",
   "execution_count": 101,
   "metadata": {
    "collapsed": false
   },
   "outputs": [
    {
     "data": {
      "text/plain": [
       "1311"
      ]
     },
     "execution_count": 101,
     "metadata": {},
     "output_type": "execute_result"
    }
   ],
   "source": [
    "numpyMatrix = df.as_matrix()\n",
    "numpyMatrix.size"
   ]
  },
  {
   "cell_type": "code",
   "execution_count": 102,
   "metadata": {
    "collapsed": false
   },
   "outputs": [],
   "source": [
    "west = -124;\n",
    "east = -66.963;\n",
    "north = 48.98;\n",
    "south = 25.53;\n",
    "\n",
    "xx = np.linspace(north,south,57)\n",
    "yy = np.linspace(west,east, 23)\n",
    "x, y = np.meshgrid(xx, yy)\n",
    "z = numpyMatrix"
   ]
  },
  {
   "cell_type": "code",
   "execution_count": 103,
   "metadata": {
    "collapsed": false
   },
   "outputs": [
    {
     "data": {
      "text/plain": [
       "57"
      ]
     },
     "execution_count": 103,
     "metadata": {},
     "output_type": "execute_result"
    }
   ],
   "source": [
    "x[1].size"
   ]
  },
  {
   "cell_type": "code",
   "execution_count": 104,
   "metadata": {
    "collapsed": false
   },
   "outputs": [
    {
     "name": "stdout",
     "output_type": "stream",
     "text": [
      "numpyMatrix: 1311\n",
      "lin_lon: 23\n",
      "lin_lat: 57\n",
      "numpyMatrix: 1311\n",
      "x_lin_lon: 1311\n",
      "y_lin_lat: 1311\n",
      "numpyMatrix[1]: 57\n",
      "x_lin_lon[1]: 23\n",
      "y_lin_lat[1]: 23\n"
     ]
    },
    {
     "data": {
      "text/plain": [
       "23"
      ]
     },
     "execution_count": 104,
     "metadata": {},
     "output_type": "execute_result"
    }
   ],
   "source": [
    "west = -124;\n",
    "east = -66.963;\n",
    "north = 48.98;\n",
    "south = 25.53;\n",
    "\n",
    "lin_lon = np.linspace(west,east, 23)\n",
    "lin_lat = np.linspace(north,south,57)\n",
    "x_lin_lon, y_lin_lat = np.meshgrid(lin_lon, lin_lat)\n",
    "\n",
    "\n",
    "print(\"numpyMatrix: \" + str(numpyMatrix.size))\n",
    "print(\"lin_lon: \" + str(lin_lon.size))\n",
    "print(\"lin_lat: \" + str(lin_lat.size))\n",
    "print(\"numpyMatrix: \" + str(numpyMatrix.size))\n",
    "print(\"x_lin_lon: \" + str(x_lin_lon.size))\n",
    "print(\"y_lin_lat: \" + str(y_lin_lat.size))\n",
    "print(\"numpyMatrix[1]: \" + str(numpyMatrix[1].size))\n",
    "print(\"x_lin_lon[1]: \" + str(x_lin_lon[1].size))\n",
    "print(\"y_lin_lat[1]: \" + str(y_lin_lat[1].size))\n",
    "y_lin_lat[1].size\n",
    "\n",
    "# lin_lon = linspace(west,east, 23);\n",
    "# lin_lat = linspace(north,south,57);"
   ]
  },
  {
   "cell_type": "code",
   "execution_count": 166,
   "metadata": {
    "collapsed": false
   },
   "outputs": [],
   "source": [
    "colorscale=[[0.0, 'rgb(15,70,94)'],\n",
    "#            [0.2, 'rgb(28,76,96)'],\n",
    "#            [0.2, 'rgb(16,125,121)'],\n",
    "#            [0.4, 'rgb(92,166,133)'],\n",
    "#            [0.6, 'rgb(182,202,175)'],\n",
    "#            [0.5, 'rgb(253,245,243)'],\n",
    "#            [0.6, 'rgb(230,183,162)'],\n",
    "#            [0.7, 'rgb(211,118,105)'],\n",
    "           [0.67, 'rgb(242,237,237)'],\n",
    "           [1.0, 'rgb(209,48,78)']]\n",
    "#            [1.0, 'rgb(51,13,53)']]"
   ]
  },
  {
   "cell_type": "code",
   "execution_count": 167,
   "metadata": {
    "collapsed": false
   },
   "outputs": [],
   "source": [
    "textz=[['x: '+'{:0.5f}'.format(x[i][j])+'<br>y: '+'{:0.5f}'.format(y[i][j])+\n",
    "        '<br>z: '+'{:0.5f}'.format(z[i][j]) for j in range(z.shape[1])] for i in range(z.shape[0])]\n",
    "\n",
    "trace1= Surface(z=z,\n",
    "                x=x,\n",
    "                y=y, \n",
    "                colorscale=colorscale,\n",
    "                text=textz,\n",
    "                hoverinfo='text',\n",
    "                )"
   ]
  },
  {
   "cell_type": "code",
   "execution_count": 168,
   "metadata": {
    "collapsed": true
   },
   "outputs": [],
   "source": [
    "axis = dict(\n",
    "showbackground=True, \n",
    "# backgroundcolor=\"rgb(230, 230,230)\", \n",
    "showgrid=False,    \n",
    "zeroline=False,  \n",
    "showline=False)\n",
    "\n",
    "ztickvals=range(-6,4)\n",
    "layout = Layout(title=\"Projections of a surface onto coordinate planes\" , \n",
    "                autosize=False,\n",
    "                width=700,\n",
    "                height=600,\n",
    "                scene=Scene(xaxis = dict(XAxis(axis, range=[south, north]),\n",
    "                                zeroline=False,\n",
    "                                showline=False,\n",
    "                                ticks='',\n",
    "                                showticklabels=False),\n",
    "                            yaxis = dict(YAxis(axis, range=[west, east]),\n",
    "                                zeroline=False,\n",
    "                                showline=False,\n",
    "                                ticks='',\n",
    "                                showticklabels=False),\n",
    "                            zaxis=ZAxis(axis ,range=[-25,25]),\n",
    "                            aspectratio=dict(x=1,\n",
    "                                             y=1,\n",
    "                                             z=0.95)\n",
    "                           )\n",
    "                )\n",
    "\n",
    "# west = -124;\n",
    "# east = -66.963;\n",
    "# north = 48.98;\n",
    "# south = 25.53;"
   ]
  },
  {
   "cell_type": "code",
   "execution_count": 169,
   "metadata": {
    "collapsed": true
   },
   "outputs": [],
   "source": [
    "z_offset=(np.min(z)-2)*np.ones(z.shape)#\n",
    "x_offset=np.min(xx)*np.ones(z.shape)\n",
    "y_offset=np.min(yy)*np.ones(z.shape)"
   ]
  },
  {
   "cell_type": "code",
   "execution_count": 170,
   "metadata": {
    "collapsed": false
   },
   "outputs": [
    {
     "data": {
      "text/html": [
       "<iframe id=\"igraph\" scrolling=\"no\" style=\"border:none;\" seamless=\"seamless\" src=\"https://plot.ly/~koalaboy808/94.embed\" height=\"600px\" width=\"700px\"></iframe>"
      ],
      "text/plain": [
       "<plotly.tools.PlotlyDisplay object>"
      ]
     },
     "execution_count": 170,
     "metadata": {},
     "output_type": "execute_result"
    }
   ],
   "source": [
    "proj_z=lambda x, y, z: z#projection in the z-direction\n",
    "colorsurfz=proj_z(x,y,z)\n",
    "proj_x=lambda x, y, z: x\n",
    "colorsurfx=proj_z(x,y,z)\n",
    "proj_y=lambda x, y, z: y\n",
    "colorsurfy=proj_z(x,y,z)\n",
    "\n",
    "textx=[['y: '+'{:0.5f}'.format(y[i][j])+'<br>z: '+'{:0.5f}'.format(z[i][j])+\n",
    "        '<br>x: '+'{:0.5f}'.format(x[i][j]) for j in range(z.shape[1])]  for i in range(z.shape[0])]\n",
    "texty=[['x: '+'{:0.5f}'.format(x[i][j])+'<br>z: '+'{:0.5f}'.format(z[i][j]) +\n",
    "        '<br>y: '+'{:0.5f}'.format(y[i][j]) for j in range(z.shape[1])] for i in range(z.shape[0])]  \n",
    "\n",
    "tracex =Surface(z=z,\n",
    "                x=x_offset,\n",
    "                y=y,\n",
    "                colorscale=colorscale,\n",
    "                showlegend=False,\n",
    "                showscale=False,\n",
    "                surfacecolor=colorsurfx,\n",
    "                text=textx,\n",
    "                hoverinfo='text'\n",
    "               )\n",
    "tracey =Surface(z=z,\n",
    "                x=x,\n",
    "                y=y_offset,\n",
    "                colorscale=colorscale,\n",
    "                showlegend=False,\n",
    "                showscale=False,\n",
    "                surfacecolor=colorsurfy,\n",
    "                text=texty,\n",
    "                hoverinfo='text'\n",
    "               )\n",
    "tracez =Surface(z=z_offset,\n",
    "                x=x,\n",
    "                y=y,\n",
    "                colorscale=colorscale,\n",
    "                showlegend=False,\n",
    "                showscale=False,\n",
    "                surfacecolor=colorsurfx,\n",
    "                text=textz,\n",
    "                hoverinfo='text'\n",
    "               )\n",
    "\n",
    "data=Data([trace1, tracex, tracey, tracez])\n",
    "fig = Figure(data=data, layout=layout)\n",
    "py.iplot(fig)"
   ]
  },
  {
   "cell_type": "code",
   "execution_count": 83,
   "metadata": {
    "collapsed": false
   },
   "outputs": [
    {
     "data": {
      "text/plain": [
       "array([-27.062, -27.062, -27.062, -27.062, -27.062, -27.062, -27.062,\n",
       "       -27.062, -27.062, -27.062, -27.062, -27.062, -27.062, -27.062,\n",
       "       -27.062, -27.062, -27.062, -27.062, -27.062, -27.062, -27.062,\n",
       "       -27.062, -27.062, -27.062, -27.062, -27.062, -27.062, -27.062,\n",
       "       -27.062, -27.062, -27.062, -27.062, -27.062, -27.062, -27.062,\n",
       "       -27.062, -27.062, -27.062, -27.062, -27.062, -27.062, -27.062,\n",
       "       -27.062, -27.062, -27.062, -27.062, -27.062, -27.062, -27.062,\n",
       "       -27.062, -27.062, -27.062, -27.062, -27.062, -27.062, -27.062,\n",
       "       -27.062])"
      ]
     },
     "execution_count": 83,
     "metadata": {},
     "output_type": "execute_result"
    }
   ],
   "source": [
    "z_offset[2]"
   ]
  },
  {
   "cell_type": "code",
   "execution_count": null,
   "metadata": {
    "collapsed": true
   },
   "outputs": [],
   "source": []
  }
 ],
 "metadata": {
  "kernelspec": {
   "display_name": "Python 2",
   "language": "python",
   "name": "python2"
  },
  "language_info": {
   "codemirror_mode": {
    "name": "ipython",
    "version": 2
   },
   "file_extension": ".py",
   "mimetype": "text/x-python",
   "name": "python",
   "nbconvert_exporter": "python",
   "pygments_lexer": "ipython2",
   "version": "2.7.10"
  }
 },
 "nbformat": 4,
 "nbformat_minor": 1
}
